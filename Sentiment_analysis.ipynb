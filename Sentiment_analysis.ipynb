{
  "nbformat": 4,
  "nbformat_minor": 0,
  "metadata": {
    "colab": {
      "name": "Sent-analysis.ipynb",
      "version": "0.3.2",
      "provenance": [],
      "collapsed_sections": [],
      "include_colab_link": true
    },
    "kernelspec": {
      "name": "python3",
      "display_name": "Python 3"
    }
  },
  "cells": [
    {
      "cell_type": "markdown",
      "metadata": {
        "id": "view-in-github",
        "colab_type": "text"
      },
      "source": [
        "<a href=\"https://colab.research.google.com/github/vasimkn/DATA/blob/master/Sentiment_analysis.ipynb\" target=\"_parent\"><img src=\"https://colab.research.google.com/assets/colab-badge.svg\" alt=\"Open In Colab\"/></a>"
      ]
    },
    {
      "metadata": {
        "id": "QQst88AkIhJ7",
        "colab_type": "code",
        "outputId": "567177b2-e01d-458a-d8c1-6745ddaa2f84",
        "colab": {
          "base_uri": "https://localhost:8080/",
          "height": 377
        }
      },
      "cell_type": "code",
      "source": [
        "!pip install pandas\n",
        "!pip install tweepy\n",
        "!pip install vaderSentiment"
      ],
      "execution_count": 0,
      "outputs": [
        {
          "output_type": "stream",
          "text": [
            "Requirement already satisfied: pandas in /usr/local/lib/python3.6/dist-packages (0.22.0)\n",
            "Requirement already satisfied: pytz>=2011k in /usr/local/lib/python3.6/dist-packages (from pandas) (2018.9)\n",
            "Requirement already satisfied: python-dateutil>=2 in /usr/local/lib/python3.6/dist-packages (from pandas) (2.5.3)\n",
            "Requirement already satisfied: numpy>=1.9.0 in /usr/local/lib/python3.6/dist-packages (from pandas) (1.14.6)\n",
            "Requirement already satisfied: six>=1.5 in /usr/local/lib/python3.6/dist-packages (from python-dateutil>=2->pandas) (1.11.0)\n",
            "Requirement already satisfied: tweepy in /usr/local/lib/python3.6/dist-packages (3.6.0)\n",
            "Requirement already satisfied: requests-oauthlib>=0.7.0 in /usr/local/lib/python3.6/dist-packages (from tweepy) (1.2.0)\n",
            "Requirement already satisfied: six>=1.10.0 in /usr/local/lib/python3.6/dist-packages (from tweepy) (1.11.0)\n",
            "Requirement already satisfied: requests>=2.11.1 in /usr/local/lib/python3.6/dist-packages (from tweepy) (2.18.4)\n",
            "Requirement already satisfied: PySocks>=1.5.7 in /usr/local/lib/python3.6/dist-packages (from tweepy) (1.6.8)\n",
            "Requirement already satisfied: oauthlib>=3.0.0 in /usr/local/lib/python3.6/dist-packages (from requests-oauthlib>=0.7.0->tweepy) (3.0.1)\n",
            "Requirement already satisfied: chardet<3.1.0,>=3.0.2 in /usr/local/lib/python3.6/dist-packages (from requests>=2.11.1->tweepy) (3.0.4)\n",
            "Requirement already satisfied: certifi>=2017.4.17 in /usr/local/lib/python3.6/dist-packages (from requests>=2.11.1->tweepy) (2018.11.29)\n",
            "Requirement already satisfied: idna<2.7,>=2.5 in /usr/local/lib/python3.6/dist-packages (from requests>=2.11.1->tweepy) (2.6)\n",
            "Requirement already satisfied: urllib3<1.23,>=1.21.1 in /usr/local/lib/python3.6/dist-packages (from requests>=2.11.1->tweepy) (1.22)\n",
            "Collecting vaderSentiment\n",
            "\u001b[?25l  Downloading https://files.pythonhosted.org/packages/86/9e/c53e1fc61aac5ee490a6ac5e21b1ac04e55a7c2aba647bb8411c9aadf24e/vaderSentiment-3.2.1-py2.py3-none-any.whl (125kB)\n",
            "\u001b[K    100% |████████████████████████████████| 133kB 3.9MB/s \n",
            "\u001b[?25hInstalling collected packages: vaderSentiment\n",
            "Successfully installed vaderSentiment-3.2.1\n"
          ],
          "name": "stdout"
        }
      ]
    },
    {
      "metadata": {
        "id": "QipaGX3WTdzS",
        "colab_type": "code",
        "colab": {}
      },
      "cell_type": "code",
      "source": [
        "import tweepy\n",
        "import pandas as pd\n",
        "from nltk.sentiment.vader import SentimentIntensityAnalyzer"
      ],
      "execution_count": 0,
      "outputs": []
    },
    {
      "metadata": {
        "id": "Hbv-U0G4V7Jt",
        "colab_type": "code",
        "outputId": "b45e635d-3a9d-4482-9e5f-f644ca978f06",
        "colab": {
          "base_uri": "https://localhost:8080/",
          "height": 272
        }
      },
      "cell_type": "code",
      "source": [
        "!pip install twython"
      ],
      "execution_count": 0,
      "outputs": [
        {
          "output_type": "stream",
          "text": [
            "Collecting twython\n",
            "  Downloading https://files.pythonhosted.org/packages/8c/2b/c0883f05b03a8e87787d56395d6c89515fe7e0bf80abd3778b6bb3a6873f/twython-3.7.0.tar.gz\n",
            "Requirement already satisfied: requests>=2.1.0 in /usr/local/lib/python3.6/dist-packages (from twython) (2.18.4)\n",
            "Requirement already satisfied: requests_oauthlib>=0.4.0 in /usr/local/lib/python3.6/dist-packages (from twython) (1.2.0)\n",
            "Requirement already satisfied: idna<2.7,>=2.5 in /usr/local/lib/python3.6/dist-packages (from requests>=2.1.0->twython) (2.6)\n",
            "Requirement already satisfied: certifi>=2017.4.17 in /usr/local/lib/python3.6/dist-packages (from requests>=2.1.0->twython) (2018.11.29)\n",
            "Requirement already satisfied: chardet<3.1.0,>=3.0.2 in /usr/local/lib/python3.6/dist-packages (from requests>=2.1.0->twython) (3.0.4)\n",
            "Requirement already satisfied: urllib3<1.23,>=1.21.1 in /usr/local/lib/python3.6/dist-packages (from requests>=2.1.0->twython) (1.22)\n",
            "Requirement already satisfied: oauthlib>=3.0.0 in /usr/local/lib/python3.6/dist-packages (from requests_oauthlib>=0.4.0->twython) (3.0.1)\n",
            "Building wheels for collected packages: twython\n",
            "  Building wheel for twython (setup.py) ... \u001b[?25ldone\n",
            "\u001b[?25h  Stored in directory: /root/.cache/pip/wheels/c2/b0/a3/5c4b4b87b8c9e4d99f1494a0b471f0134a74e5fb33d426d009\n",
            "Successfully built twython\n",
            "Installing collected packages: twython\n",
            "Successfully installed twython-3.7.0\n"
          ],
          "name": "stdout"
        }
      ]
    },
    {
      "metadata": {
        "id": "Jdz1gwiBOJzc",
        "colab_type": "code",
        "outputId": "ccdd25d6-24da-4013-9947-bff88f8dd195",
        "colab": {
          "base_uri": "https://localhost:8080/",
          "height": 34
        }
      },
      "cell_type": "code",
      "source": [
        "!pip install msgpack\n"
      ],
      "execution_count": 0,
      "outputs": [
        {
          "output_type": "stream",
          "text": [
            "Requirement already satisfied: msgpack in /usr/local/lib/python3.6/dist-packages (0.5.6)\n"
          ],
          "name": "stdout"
        }
      ]
    },
    {
      "metadata": {
        "id": "NbZt25HuOMNL",
        "colab_type": "code",
        "colab": {}
      },
      "cell_type": "code",
      "source": [
        "#My Twitter API Authentication Variables\n",
        "consumer_key = '#####'\n",
        "consumer_secret = '#####'\n",
        "access_token = '#####'\n",
        "access_token_secret = '#####'"
      ],
      "execution_count": 0,
      "outputs": []
    },
    {
      "metadata": {
        "id": "NrqdT6KMTrZX",
        "colab_type": "code",
        "outputId": "8f9acee3-a792-45a4-eeb1-d1f18913703f",
        "colab": {
          "base_uri": "https://localhost:8080/",
          "height": 686
        }
      },
      "cell_type": "code",
      "source": [
        "auth = tweepy.OAuthHandler(consumer_key, consumer_secret)\n",
        "auth.set_access_token(access_token, access_token_secret)\n",
        "\n",
        "api = tweepy.API(auth)\n",
        "\n",
        "tweets = api.search('Barack Obama', count=200)\n",
        "\n",
        "\n",
        "data = pd.DataFrame(data=[tweet.text for tweet in tweets], columns=['Tweets'])\n",
        "\n",
        "display(data.head(20))\n",
        "\n",
        "\n",
        "print(tweets[0].created_at)"
      ],
      "execution_count": 0,
      "outputs": [
        {
          "output_type": "display_data",
          "data": {
            "text/html": [
              "<div>\n",
              "<style scoped>\n",
              "    .dataframe tbody tr th:only-of-type {\n",
              "        vertical-align: middle;\n",
              "    }\n",
              "\n",
              "    .dataframe tbody tr th {\n",
              "        vertical-align: top;\n",
              "    }\n",
              "\n",
              "    .dataframe thead th {\n",
              "        text-align: right;\n",
              "    }\n",
              "</style>\n",
              "<table border=\"1\" class=\"dataframe\">\n",
              "  <thead>\n",
              "    <tr style=\"text-align: right;\">\n",
              "      <th></th>\n",
              "      <th>Tweets</th>\n",
              "    </tr>\n",
              "  </thead>\n",
              "  <tbody>\n",
              "    <tr>\n",
              "      <th>0</th>\n",
              "      <td>RT @WrathOfKhan2016: Why did Elizabeth Warren ...</td>\n",
              "    </tr>\n",
              "    <tr>\n",
              "      <th>1</th>\n",
              "      <td>RT @carlottide: 4 novembre 2008: Barack Obama ...</td>\n",
              "    </tr>\n",
              "    <tr>\n",
              "      <th>2</th>\n",
              "      <td>RT @WrathOfKhan2016: Why did Elizabeth Warren ...</td>\n",
              "    </tr>\n",
              "    <tr>\n",
              "      <th>3</th>\n",
              "      <td>RT @WrathOfKhan2016: Why did Elizabeth Warren ...</td>\n",
              "    </tr>\n",
              "    <tr>\n",
              "      <th>4</th>\n",
              "      <td>RT @larryelder: \"I give interracial couples a ...</td>\n",
              "    </tr>\n",
              "    <tr>\n",
              "      <th>5</th>\n",
              "      <td>RT @WrathOfKhan2016: Why did Elizabeth Warren ...</td>\n",
              "    </tr>\n",
              "    <tr>\n",
              "      <th>6</th>\n",
              "      <td>RT @BTS_tywt: Barack Obama has something to sa...</td>\n",
              "    </tr>\n",
              "    <tr>\n",
              "      <th>7</th>\n",
              "      <td>RT @JudicialWatch: The five terrorists who wer...</td>\n",
              "    </tr>\n",
              "    <tr>\n",
              "      <th>8</th>\n",
              "      <td>RT @charliekirk11: 4 prominent Democrat senato...</td>\n",
              "    </tr>\n",
              "    <tr>\n",
              "      <th>9</th>\n",
              "      <td>RT @JudicialWatch: The five terrorists who wer...</td>\n",
              "    </tr>\n",
              "    <tr>\n",
              "      <th>10</th>\n",
              "      <td>RT @JudicialWatch: The five terrorists who wer...</td>\n",
              "    </tr>\n",
              "    <tr>\n",
              "      <th>11</th>\n",
              "      <td>RT @WrathOfKhan2016: Why did Elizabeth Warren ...</td>\n",
              "    </tr>\n",
              "    <tr>\n",
              "      <th>12</th>\n",
              "      <td>RT @WrathOfKhan2016: Why did Elizabeth Warren ...</td>\n",
              "    </tr>\n",
              "    <tr>\n",
              "      <th>13</th>\n",
              "      <td>RT @WrathOfKhan2016: Why did Elizabeth Warren ...</td>\n",
              "    </tr>\n",
              "    <tr>\n",
              "      <th>14</th>\n",
              "      <td>RT @RyanAFournier: “The American dream is to b...</td>\n",
              "    </tr>\n",
              "    <tr>\n",
              "      <th>15</th>\n",
              "      <td>RT @WrathOfKhan2016: Why did Elizabeth Warren ...</td>\n",
              "    </tr>\n",
              "    <tr>\n",
              "      <th>16</th>\n",
              "      <td>RT @WrathOfKhan2016: Why did Elizabeth Warren ...</td>\n",
              "    </tr>\n",
              "    <tr>\n",
              "      <th>17</th>\n",
              "      <td>RT @WrathOfKhan2016: Why did Elizabeth Warren ...</td>\n",
              "    </tr>\n",
              "    <tr>\n",
              "      <th>18</th>\n",
              "      <td>RT @JudicialWatch: The five terrorists who wer...</td>\n",
              "    </tr>\n",
              "    <tr>\n",
              "      <th>19</th>\n",
              "      <td>RT @WrathOfKhan2016: Why did Elizabeth Warren ...</td>\n",
              "    </tr>\n",
              "  </tbody>\n",
              "</table>\n",
              "</div>"
            ],
            "text/plain": [
              "                                               Tweets\n",
              "0   RT @WrathOfKhan2016: Why did Elizabeth Warren ...\n",
              "1   RT @carlottide: 4 novembre 2008: Barack Obama ...\n",
              "2   RT @WrathOfKhan2016: Why did Elizabeth Warren ...\n",
              "3   RT @WrathOfKhan2016: Why did Elizabeth Warren ...\n",
              "4   RT @larryelder: \"I give interracial couples a ...\n",
              "5   RT @WrathOfKhan2016: Why did Elizabeth Warren ...\n",
              "6   RT @BTS_tywt: Barack Obama has something to sa...\n",
              "7   RT @JudicialWatch: The five terrorists who wer...\n",
              "8   RT @charliekirk11: 4 prominent Democrat senato...\n",
              "9   RT @JudicialWatch: The five terrorists who wer...\n",
              "10  RT @JudicialWatch: The five terrorists who wer...\n",
              "11  RT @WrathOfKhan2016: Why did Elizabeth Warren ...\n",
              "12  RT @WrathOfKhan2016: Why did Elizabeth Warren ...\n",
              "13  RT @WrathOfKhan2016: Why did Elizabeth Warren ...\n",
              "14  RT @RyanAFournier: “The American dream is to b...\n",
              "15  RT @WrathOfKhan2016: Why did Elizabeth Warren ...\n",
              "16  RT @WrathOfKhan2016: Why did Elizabeth Warren ...\n",
              "17  RT @WrathOfKhan2016: Why did Elizabeth Warren ...\n",
              "18  RT @JudicialWatch: The five terrorists who wer...\n",
              "19  RT @WrathOfKhan2016: Why did Elizabeth Warren ..."
            ]
          },
          "metadata": {
            "tags": []
          }
        },
        {
          "output_type": "stream",
          "text": [
            "2019-02-10 11:33:11\n"
          ],
          "name": "stdout"
        }
      ]
    },
    {
      "metadata": {
        "id": "hGY66EnAU6ug",
        "colab_type": "code",
        "outputId": "5263fd5a-2524-4725-d0f0-bcecdc91edbd",
        "colab": {
          "base_uri": "https://localhost:8080/",
          "height": 51
        }
      },
      "cell_type": "code",
      "source": [
        "import nltk\n",
        "nltk.download('vader_lexicon')"
      ],
      "execution_count": 0,
      "outputs": [
        {
          "output_type": "stream",
          "text": [
            "[nltk_data] Downloading package vader_lexicon to /root/nltk_data...\n"
          ],
          "name": "stdout"
        },
        {
          "output_type": "execute_result",
          "data": {
            "text/plain": [
              "True"
            ]
          },
          "metadata": {
            "tags": []
          },
          "execution_count": 7
        }
      ]
    },
    {
      "metadata": {
        "id": "S44OpoaaU5CL",
        "colab_type": "code",
        "outputId": "b4a5087f-5457-4725-c560-c52c7b94d24d",
        "colab": {
          "base_uri": "https://localhost:8080/",
          "height": 669
        }
      },
      "cell_type": "code",
      "source": [
        "sid = SentimentIntensityAnalyzer()\n",
        "\n",
        "\n",
        "listy = []\n",
        "\n",
        "for index, row in data.iterrows():\n",
        "  ss = sid.polarity_scores(row[\"Tweets\"])\n",
        "  listy.append(ss)\n",
        "  \n",
        "se = pd.Series(listy)\n",
        "data['polarity'] = se.values\n",
        "\n",
        "display(data.head(20))"
      ],
      "execution_count": 0,
      "outputs": [
        {
          "output_type": "display_data",
          "data": {
            "text/html": [
              "<div>\n",
              "<style scoped>\n",
              "    .dataframe tbody tr th:only-of-type {\n",
              "        vertical-align: middle;\n",
              "    }\n",
              "\n",
              "    .dataframe tbody tr th {\n",
              "        vertical-align: top;\n",
              "    }\n",
              "\n",
              "    .dataframe thead th {\n",
              "        text-align: right;\n",
              "    }\n",
              "</style>\n",
              "<table border=\"1\" class=\"dataframe\">\n",
              "  <thead>\n",
              "    <tr style=\"text-align: right;\">\n",
              "      <th></th>\n",
              "      <th>Tweets</th>\n",
              "      <th>polarity</th>\n",
              "    </tr>\n",
              "  </thead>\n",
              "  <tbody>\n",
              "    <tr>\n",
              "      <th>0</th>\n",
              "      <td>RT @WrathOfKhan2016: Why did Elizabeth Warren ...</td>\n",
              "      <td>{'neg': 0.0, 'neu': 1.0, 'pos': 0.0, 'compound...</td>\n",
              "    </tr>\n",
              "    <tr>\n",
              "      <th>1</th>\n",
              "      <td>RT @carlottide: 4 novembre 2008: Barack Obama ...</td>\n",
              "      <td>{'neg': 0.0, 'neu': 1.0, 'pos': 0.0, 'compound...</td>\n",
              "    </tr>\n",
              "    <tr>\n",
              "      <th>2</th>\n",
              "      <td>RT @WrathOfKhan2016: Why did Elizabeth Warren ...</td>\n",
              "      <td>{'neg': 0.0, 'neu': 1.0, 'pos': 0.0, 'compound...</td>\n",
              "    </tr>\n",
              "    <tr>\n",
              "      <th>3</th>\n",
              "      <td>RT @WrathOfKhan2016: Why did Elizabeth Warren ...</td>\n",
              "      <td>{'neg': 0.0, 'neu': 1.0, 'pos': 0.0, 'compound...</td>\n",
              "    </tr>\n",
              "    <tr>\n",
              "      <th>4</th>\n",
              "      <td>RT @larryelder: \"I give interracial couples a ...</td>\n",
              "      <td>{'neg': 0.12, 'neu': 0.88, 'pos': 0.0, 'compou...</td>\n",
              "    </tr>\n",
              "    <tr>\n",
              "      <th>5</th>\n",
              "      <td>RT @WrathOfKhan2016: Why did Elizabeth Warren ...</td>\n",
              "      <td>{'neg': 0.0, 'neu': 1.0, 'pos': 0.0, 'compound...</td>\n",
              "    </tr>\n",
              "    <tr>\n",
              "      <th>6</th>\n",
              "      <td>RT @BTS_tywt: Barack Obama has something to sa...</td>\n",
              "      <td>{'neg': 0.0, 'neu': 1.0, 'pos': 0.0, 'compound...</td>\n",
              "    </tr>\n",
              "    <tr>\n",
              "      <th>7</th>\n",
              "      <td>RT @JudicialWatch: The five terrorists who wer...</td>\n",
              "      <td>{'neg': 0.151, 'neu': 0.775, 'pos': 0.074, 'co...</td>\n",
              "    </tr>\n",
              "    <tr>\n",
              "      <th>8</th>\n",
              "      <td>RT @charliekirk11: 4 prominent Democrat senato...</td>\n",
              "      <td>{'neg': 0.0, 'neu': 0.887, 'pos': 0.113, 'comp...</td>\n",
              "    </tr>\n",
              "    <tr>\n",
              "      <th>9</th>\n",
              "      <td>RT @JudicialWatch: The five terrorists who wer...</td>\n",
              "      <td>{'neg': 0.151, 'neu': 0.775, 'pos': 0.074, 'co...</td>\n",
              "    </tr>\n",
              "    <tr>\n",
              "      <th>10</th>\n",
              "      <td>RT @JudicialWatch: The five terrorists who wer...</td>\n",
              "      <td>{'neg': 0.151, 'neu': 0.775, 'pos': 0.074, 'co...</td>\n",
              "    </tr>\n",
              "    <tr>\n",
              "      <th>11</th>\n",
              "      <td>RT @WrathOfKhan2016: Why did Elizabeth Warren ...</td>\n",
              "      <td>{'neg': 0.0, 'neu': 1.0, 'pos': 0.0, 'compound...</td>\n",
              "    </tr>\n",
              "    <tr>\n",
              "      <th>12</th>\n",
              "      <td>RT @WrathOfKhan2016: Why did Elizabeth Warren ...</td>\n",
              "      <td>{'neg': 0.0, 'neu': 1.0, 'pos': 0.0, 'compound...</td>\n",
              "    </tr>\n",
              "    <tr>\n",
              "      <th>13</th>\n",
              "      <td>RT @WrathOfKhan2016: Why did Elizabeth Warren ...</td>\n",
              "      <td>{'neg': 0.0, 'neu': 1.0, 'pos': 0.0, 'compound...</td>\n",
              "    </tr>\n",
              "    <tr>\n",
              "      <th>14</th>\n",
              "      <td>RT @RyanAFournier: “The American dream is to b...</td>\n",
              "      <td>{'neg': 0.0, 'neu': 0.712, 'pos': 0.288, 'comp...</td>\n",
              "    </tr>\n",
              "    <tr>\n",
              "      <th>15</th>\n",
              "      <td>RT @WrathOfKhan2016: Why did Elizabeth Warren ...</td>\n",
              "      <td>{'neg': 0.0, 'neu': 1.0, 'pos': 0.0, 'compound...</td>\n",
              "    </tr>\n",
              "    <tr>\n",
              "      <th>16</th>\n",
              "      <td>RT @WrathOfKhan2016: Why did Elizabeth Warren ...</td>\n",
              "      <td>{'neg': 0.0, 'neu': 1.0, 'pos': 0.0, 'compound...</td>\n",
              "    </tr>\n",
              "    <tr>\n",
              "      <th>17</th>\n",
              "      <td>RT @WrathOfKhan2016: Why did Elizabeth Warren ...</td>\n",
              "      <td>{'neg': 0.0, 'neu': 1.0, 'pos': 0.0, 'compound...</td>\n",
              "    </tr>\n",
              "    <tr>\n",
              "      <th>18</th>\n",
              "      <td>RT @JudicialWatch: The five terrorists who wer...</td>\n",
              "      <td>{'neg': 0.151, 'neu': 0.775, 'pos': 0.074, 'co...</td>\n",
              "    </tr>\n",
              "    <tr>\n",
              "      <th>19</th>\n",
              "      <td>RT @WrathOfKhan2016: Why did Elizabeth Warren ...</td>\n",
              "      <td>{'neg': 0.0, 'neu': 1.0, 'pos': 0.0, 'compound...</td>\n",
              "    </tr>\n",
              "  </tbody>\n",
              "</table>\n",
              "</div>"
            ],
            "text/plain": [
              "                                               Tweets  \\\n",
              "0   RT @WrathOfKhan2016: Why did Elizabeth Warren ...   \n",
              "1   RT @carlottide: 4 novembre 2008: Barack Obama ...   \n",
              "2   RT @WrathOfKhan2016: Why did Elizabeth Warren ...   \n",
              "3   RT @WrathOfKhan2016: Why did Elizabeth Warren ...   \n",
              "4   RT @larryelder: \"I give interracial couples a ...   \n",
              "5   RT @WrathOfKhan2016: Why did Elizabeth Warren ...   \n",
              "6   RT @BTS_tywt: Barack Obama has something to sa...   \n",
              "7   RT @JudicialWatch: The five terrorists who wer...   \n",
              "8   RT @charliekirk11: 4 prominent Democrat senato...   \n",
              "9   RT @JudicialWatch: The five terrorists who wer...   \n",
              "10  RT @JudicialWatch: The five terrorists who wer...   \n",
              "11  RT @WrathOfKhan2016: Why did Elizabeth Warren ...   \n",
              "12  RT @WrathOfKhan2016: Why did Elizabeth Warren ...   \n",
              "13  RT @WrathOfKhan2016: Why did Elizabeth Warren ...   \n",
              "14  RT @RyanAFournier: “The American dream is to b...   \n",
              "15  RT @WrathOfKhan2016: Why did Elizabeth Warren ...   \n",
              "16  RT @WrathOfKhan2016: Why did Elizabeth Warren ...   \n",
              "17  RT @WrathOfKhan2016: Why did Elizabeth Warren ...   \n",
              "18  RT @JudicialWatch: The five terrorists who wer...   \n",
              "19  RT @WrathOfKhan2016: Why did Elizabeth Warren ...   \n",
              "\n",
              "                                             polarity  \n",
              "0   {'neg': 0.0, 'neu': 1.0, 'pos': 0.0, 'compound...  \n",
              "1   {'neg': 0.0, 'neu': 1.0, 'pos': 0.0, 'compound...  \n",
              "2   {'neg': 0.0, 'neu': 1.0, 'pos': 0.0, 'compound...  \n",
              "3   {'neg': 0.0, 'neu': 1.0, 'pos': 0.0, 'compound...  \n",
              "4   {'neg': 0.12, 'neu': 0.88, 'pos': 0.0, 'compou...  \n",
              "5   {'neg': 0.0, 'neu': 1.0, 'pos': 0.0, 'compound...  \n",
              "6   {'neg': 0.0, 'neu': 1.0, 'pos': 0.0, 'compound...  \n",
              "7   {'neg': 0.151, 'neu': 0.775, 'pos': 0.074, 'co...  \n",
              "8   {'neg': 0.0, 'neu': 0.887, 'pos': 0.113, 'comp...  \n",
              "9   {'neg': 0.151, 'neu': 0.775, 'pos': 0.074, 'co...  \n",
              "10  {'neg': 0.151, 'neu': 0.775, 'pos': 0.074, 'co...  \n",
              "11  {'neg': 0.0, 'neu': 1.0, 'pos': 0.0, 'compound...  \n",
              "12  {'neg': 0.0, 'neu': 1.0, 'pos': 0.0, 'compound...  \n",
              "13  {'neg': 0.0, 'neu': 1.0, 'pos': 0.0, 'compound...  \n",
              "14  {'neg': 0.0, 'neu': 0.712, 'pos': 0.288, 'comp...  \n",
              "15  {'neg': 0.0, 'neu': 1.0, 'pos': 0.0, 'compound...  \n",
              "16  {'neg': 0.0, 'neu': 1.0, 'pos': 0.0, 'compound...  \n",
              "17  {'neg': 0.0, 'neu': 1.0, 'pos': 0.0, 'compound...  \n",
              "18  {'neg': 0.151, 'neu': 0.775, 'pos': 0.074, 'co...  \n",
              "19  {'neg': 0.0, 'neu': 1.0, 'pos': 0.0, 'compound...  "
            ]
          },
          "metadata": {
            "tags": []
          }
        }
      ]
    },
    {
      "metadata": {
        "id": "MiV3ZToAhKcB",
        "colab_type": "code",
        "colab": {}
      },
      "cell_type": "code",
      "source": [
        ""
      ],
      "execution_count": 0,
      "outputs": []
    }
  ]
}